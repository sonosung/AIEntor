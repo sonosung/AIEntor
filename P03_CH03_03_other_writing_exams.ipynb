{
 "cells": [
  {
   "cell_type": "markdown",
   "id": "c838d854-5c2e-42d7-afef-1439c61d3ddb",
   "metadata": {},
   "source": [
    "# Writing Exams"
   ]
  },
  {
   "cell_type": "markdown",
   "id": "2256504f-a3a5-4fca-9aa9-9125df789b50",
   "metadata": {},
   "source": [
    "- 이메일 답장하기\n",
    "- 제시문 내용 요약하기\n",
    "- 자신의 의견쓰기\n",
    "\n"
   ]
  },
  {
   "cell_type": "code",
   "execution_count": 1,
   "id": "65b2be14-007d-443b-8a1a-f2e30375bdb0",
   "metadata": {},
   "outputs": [
    {
     "name": "stderr",
     "output_type": "stream",
     "text": [
      "C:\\Users\\msh07\\miniconda3\\Lib\\site-packages\\IPython\\core\\interactiveshell.py:3577: LangChainDeprecationWarning: As of langchain-core 0.3.0, LangChain uses pydantic v2 internally. The langchain.pydantic_v1 module was a compatibility shim for pydantic v1, and should no longer be used. Please update the code to import from Pydantic directly.\n",
      "\n",
      "For example, replace imports like: `from langchain.pydantic_v1 import BaseModel`\n",
      "with: `from pydantic import BaseModel`\n",
      "or the v1 compatibility namespace if you are working in a code base that has not been fully upgraded to pydantic 2 yet. \tfrom pydantic.v1 import BaseModel\n",
      "\n",
      "  exec(code_obj, self.user_global_ns, self.user_ns)\n"
     ]
    }
   ],
   "source": [
    "import json\n",
    "from typing import List, Union\n",
    "\n",
    "from tqdm.notebook import tqdm\n",
    "from langchain_core.prompts import PromptTemplate, ChatPromptTemplate, HumanMessagePromptTemplate\n",
    "from langchain_core.runnables import RunnableParallel, RunnablePassthrough\n",
    "from langchain_openai import ChatOpenAI\n",
    "from langchain_core.output_parsers import JsonOutputParser, CommaSeparatedListOutputParser\n",
    "from langchain.pydantic_v1 import BaseModel, Field\n",
    "from langchain.schema import HumanMessage, AIMessage, StrOutputParser\n",
    "import pandas as pd"
   ]
  },
  {
   "cell_type": "code",
   "execution_count": 2,
   "id": "0b2cf8a2-3d8d-4b44-b496-348792ca32c7",
   "metadata": {},
   "outputs": [],
   "source": [
    "model = ChatOpenAI(model=\"gpt-3.5-turbo\")"
   ]
  },
  {
   "cell_type": "markdown",
   "id": "e01f7a9b-9f39-4eb4-9383-898793384fe1",
   "metadata": {},
   "source": [
    "## 이메일 답장하기"
   ]
  },
  {
   "cell_type": "markdown",
   "id": "304b6cab-fe9d-4b76-8c27-bdef3db3be01",
   "metadata": {},
   "source": [
    "### 가상의 이메일 생성하기"
   ]
  },
  {
   "cell_type": "code",
   "execution_count": 8,
   "id": "1c45b78b-0015-4932-834b-17690fe8f92f",
   "metadata": {},
   "outputs": [],
   "source": [
    "#여러 유형의 시험을 프롬프트 엔지니어링 만으로 계속 새로 만들 수 있는 함수 생성.\n",
    "def build_text_sampling_chain(desc):\n",
    "    prompt_template = PromptTemplate.from_template(template=desc)\n",
    "    chain = prompt_template | model | StrOutputParser()\n",
    "    return chain"
   ]
  },
  {
   "cell_type": "code",
   "execution_count": 4,
   "id": "31954b57-bdcf-49f1-8cdb-4af6edc41c72",
   "metadata": {},
   "outputs": [],
   "source": [
    "email_gen_chain = build_text_sampling_chain(desc=\"영어 Writing 시험에서 이메일에 답장하기에 등장 할 법한 가상의 영어 이메일 하나 만들어줘. 이름 같은 것들도 가상으로 만들어서 채워줘. 영어로\")"
   ]
  },
  {
   "cell_type": "code",
   "execution_count": 7,
   "id": "443ff459-9f33-4b99-8672-1c8b6eb9d435",
   "metadata": {},
   "outputs": [
    {
     "data": {
      "text/plain": [
       "'Subject: Re: Meeting Schedule\\n\\nDear Mr. Johnson,\\n\\nThank you for your email regarding the upcoming meeting schedule. I appreciate the information and I will do my best to attend the meeting on the specified date and time.\\n\\nIf there are any changes or updates, I would greatly appreciate it if you could keep me informed. I look forward to discussing the agenda items and collaborating with the team.\\n\\nBest regards,\\nEmily Smith'"
      ]
     },
     "execution_count": 7,
     "metadata": {},
     "output_type": "execute_result"
    }
   ],
   "source": [
    "email_gen_chain.invoke({})"
   ]
  },
  {
   "cell_type": "markdown",
   "id": "1c6c8e65-3ee3-4667-ba2e-35a75bcce81e",
   "metadata": {},
   "source": [
    "### 답장 평가하기"
   ]
  },
  {
   "cell_type": "code",
   "execution_count": 9,
   "id": "804a56dc-f6ad-436a-974c-0ca50e1abeab",
   "metadata": {},
   "outputs": [],
   "source": [
    "def build_eval_chain(instruction, reason_desc, score_desc):\n",
    "    #1. pydantic class 생성.\n",
    "    class Evaluation(BaseModel): \n",
    "        reason: str = Field(description=reason_desc)\n",
    "        score: int = Field(description=score_desc)\n",
    "\n",
    "    #2. JsonOutputParser생성\n",
    "    parser = JsonOutputParser(pydantic_object=Evaluation)\n",
    "    format_instructions = parser.get_format_instructions()\n",
    "\n",
    "    #3. 메시지 프롬프트 생성\n",
    "    human_prompt_template = HumanMessagePromptTemplate.from_template(\n",
    "                                \"# Instruction: {instruction}\\n\" #instruction = 평가처리 방식\n",
    "                                \"# Context: {context}\\n\"         #문제\n",
    "                                \"# User: {input}\\n\"              #사용자의 응답\n",
    "                                \"{format_instructions}\",\n",
    "                                partial_variables={\"instruction\": instruction,\n",
    "                                                   \"format_instructions\": format_instructions})\n",
    "    \n",
    "    prompt = ChatPromptTemplate.from_messages(\n",
    "        [\n",
    "            human_prompt_template,\n",
    "        ])\n",
    "    eval_chain = prompt | model | parser\n",
    "    return eval_chain"
   ]
  },
  {
   "cell_type": "code",
   "execution_count": 19,
   "id": "f79c709e-9708-402a-bb6c-a7209dbf4147",
   "metadata": {},
   "outputs": [],
   "source": [
    "email_eval_chain = build_eval_chain(instruction=\"User의 응답이 Context의 이메일에 대해 Context의 문맥과 상황에 적절한 표현을 사용했는지 파악하여 적절한 응답인지 추론하고 평가하라\",\n",
    "                                    reason_desc=\"User의 응답이 Context의 이메일에 대해 Context의 문맥과 상황에 적절한 표현을 사용했는지 파악하여 적절한 응답인지에 대한 추론\",\n",
    "                                    score_desc=\"User의 응답이 Context의 이메일에 대해 Context의 문맥과 상황에 적절한 표현을 사용했는지 파악하여 적절한 응답인지에 대한 점수, 0~10점\")"
   ]
  },
  {
   "cell_type": "code",
   "execution_count": 20,
   "id": "af70a43a-2ca2-4a00-94a3-f02aa91ac1be",
   "metadata": {},
   "outputs": [],
   "source": [
    "email = email_gen_chain.invoke({})"
   ]
  },
  {
   "cell_type": "code",
   "execution_count": 21,
   "id": "379e6d32-0435-4512-85c5-7da34013cd73",
   "metadata": {},
   "outputs": [
    {
     "data": {
      "text/plain": [
       "'Subject: Invitation to Collaboration\\n\\nDear Professor Johnson,\\n\\nI hope this email finds you well. I am writing to express my interest in the opportunity to collaborate with you on a research project. Your expertise in the field of economics has been a source of inspiration for me, and I believe that our combined efforts could lead to valuable insights and contributions to the academic community.\\n\\nI would be honored to work alongside you and contribute to the advancement of knowledge in our field. Please let me know if you would be open to discussing this further and exploring potential research topics together.\\n\\nThank you for considering my proposal. I look forward to hearing from you soon.\\n\\nBest regards,\\nSarah Williams'"
      ]
     },
     "execution_count": 21,
     "metadata": {},
     "output_type": "execute_result"
    }
   ],
   "source": [
    "email"
   ]
  },
  {
   "cell_type": "code",
   "execution_count": 22,
   "id": "a4b44c2d-e1e6-4bad-8361-972c48ecaa7a",
   "metadata": {},
   "outputs": [],
   "source": [
    "user_answer = \"Dear Emily Johnson. Hi, I'm happy to hear that you are willing to discuss about your job position. I'll be available on Saturday November at 8am. Please come to the Cafe Demel to have the discussion.\""
   ]
  },
  {
   "cell_type": "code",
   "execution_count": 23,
   "id": "286a07f2-3ea0-419b-a02a-90ede494a54b",
   "metadata": {},
   "outputs": [],
   "source": [
    "eval_result = email_eval_chain.invoke({\"context\": email, \"input\": user_answer})"
   ]
  },
  {
   "cell_type": "code",
   "execution_count": 24,
   "id": "3050acc7-9661-425f-b2c9-2736a6d9244b",
   "metadata": {},
   "outputs": [
    {
     "data": {
      "text/plain": [
       "{'reason': \"User's response is not appropriate as it shows a misunderstanding of the context. The email was about a research collaboration opportunity, not a job position discussion.\",\n",
       " 'score': 3}"
      ]
     },
     "execution_count": 24,
     "metadata": {},
     "output_type": "execute_result"
    }
   ],
   "source": [
    "eval_result"
   ]
  },
  {
   "cell_type": "markdown",
   "id": "bf584546-6831-40d6-867a-a2bd02d81f4c",
   "metadata": {},
   "source": [
    "## 제시문 내용 요약하기"
   ]
  },
  {
   "cell_type": "markdown",
   "id": "cefd7c46-68fa-4a82-973a-96ac5ee41e83",
   "metadata": {},
   "source": [
    "### 무작위 글 생성"
   ]
  },
  {
   "cell_type": "code",
   "execution_count": 25,
   "id": "e618d179-40db-4ca5-bfe5-8ec0d8a7b832",
   "metadata": {},
   "outputs": [],
   "source": [
    "#제시문 만드는 체인 생성.\n",
    "text_gen_chain = build_text_sampling_chain(desc=\"영어 Writing 시험에서 단락 요약하기에 등장 할 법한 가상의 영어 단락 하나 만들어줘. 이름 같은 것들도 가상으로 만들어서 채워줘. 영어로\")"
   ]
  },
  {
   "cell_type": "code",
   "execution_count": 26,
   "id": "9984eb10-2cf3-4c5e-86ef-c8b083ac60dd",
   "metadata": {},
   "outputs": [
    {
     "data": {
      "text/plain": [
       "'As a university student majoring in psychology, Emily is fascinated by the complexities of the human mind. Her latest research project delves into the effects of childhood trauma on adult mental health. Through interviews and surveys, she hopes to gain a better understanding of how past experiences shape our present selves. With the support of her professor Dr. Johnson, Emily is determined to uncover new insights that could potentially revolutionize the field of psychology.'"
      ]
     },
     "execution_count": 26,
     "metadata": {},
     "output_type": "execute_result"
    }
   ],
   "source": [
    "text = text_gen_chain.invoke({})\n",
    "text"
   ]
  },
  {
   "cell_type": "markdown",
   "id": "1c863a97-63ec-45b4-ac29-84635485a9b0",
   "metadata": {},
   "source": [
    "### 요약 평가하기"
   ]
  },
  {
   "cell_type": "code",
   "execution_count": 27,
   "id": "7d6d27f4-5996-48fe-8c80-2450e76d64f0",
   "metadata": {},
   "outputs": [],
   "source": [
    "summarization_eval_chain = build_eval_chain(instruction=\"User의 응답이 Context에 대해 문맥과 상황에 적절한 표현을 사용했는지 파악하여 적절한 요약인지 추론하고 평가하라\",\n",
    "                                            reason_desc=\"User의 응답이 Context에 대해 Context의 문맥과 상황에 적절한 표현을 사용했는지 파악하여 적절한 요약인지에 대한 추론\",\n",
    "                                            score_desc=\"User의 응답이 Context에 대해 Context의 문맥과 상황에 적절한 표현을 사용했는지 파악하여 적절한 요약인지에 대한 점수, 0~10점\")"
   ]
  },
  {
   "cell_type": "code",
   "execution_count": 28,
   "id": "8c3c40b2-7239-4299-ac88-f7b9c70c02db",
   "metadata": {},
   "outputs": [],
   "source": [
    "user_answer = \"The innovative advancement and increasing adoption of solar power is emerging as a green energy solution for a sustainable future.\""
   ]
  },
  {
   "cell_type": "code",
   "execution_count": 29,
   "id": "d472e8aa-f43a-45d0-a881-aef0f511326b",
   "metadata": {},
   "outputs": [
    {
     "data": {
      "text/plain": [
       "{'reason': \"User's response is not a proper summary of the given context. It discusses a different topic unrelated to psychology or research.\",\n",
       " 'score': 2}"
      ]
     },
     "execution_count": 29,
     "metadata": {},
     "output_type": "execute_result"
    }
   ],
   "source": [
    "summarization_eval_chain.invoke({\"context\": text,\n",
    "                                 \"input\": user_answer})"
   ]
  },
  {
   "cell_type": "markdown",
   "id": "35ae29b0-ef90-4bdb-823b-4db10a1db617",
   "metadata": {},
   "source": [
    "## 자신의 의견쓰기"
   ]
  },
  {
   "cell_type": "markdown",
   "id": "6ded8806-0a33-422b-8d49-a1f1b4a39ffd",
   "metadata": {},
   "source": [
    "### 무작위 이슈 생성\n"
   ]
  },
  {
   "cell_type": "code",
   "execution_count": 36,
   "id": "98623d8b-2be0-48ea-9801-4b078ee2ac96",
   "metadata": {},
   "outputs": [],
   "source": [
    "issue_gen_chain = build_text_sampling_chain(desc=\"영어 Writing 시험에서 자신의 의견쓰기에 등장 할 법한 무작위 이슈 영어 단락 하나 만들어줘. 이름 같은 것들도 가상으로 만들어서 채워줘. 영어로\")"
   ]
  },
  {
   "cell_type": "code",
   "execution_count": 37,
   "id": "bdaa18d3-7f04-469a-9b29-88a28f7d515a",
   "metadata": {},
   "outputs": [
    {
     "data": {
      "text/plain": [
       "'One controversial issue that frequently arises in the modern world is the use of social media by children and teenagers. Many argue that excessive use of platforms such as Instagram, TikTok, and Snapchat can have negative effects on mental health, self-esteem, and social relationships. On the other hand, some believe that these platforms can promote creativity, communication, and social connection among young users. In my opinion, while social media can have its drawbacks, it ultimately comes down to how it is used and supervised by parents and guardians.'"
      ]
     },
     "execution_count": 37,
     "metadata": {},
     "output_type": "execute_result"
    }
   ],
   "source": [
    "issue = issue_gen_chain.invoke({})\n",
    "issue"
   ]
  },
  {
   "cell_type": "markdown",
   "id": "4412716d-1ccd-4161-9a81-c9bbfc8bf402",
   "metadata": {},
   "source": [
    "### 의견 평가하기"
   ]
  },
  {
   "cell_type": "code",
   "execution_count": 43,
   "id": "ac805f37-446e-473e-95f1-00e5692538cc",
   "metadata": {},
   "outputs": [],
   "source": [
    "opinion_eval_chain = build_eval_chain(instruction=\"User의 응답이 Context에 대해 문맥과 상황에 적절한 표현을 사용했는지 파악하여 요지에 적절한 의견을 주장했는지 평가하라.\",\n",
    "                                      reason_desc=\"User의 응답이 Context에 대해 문맥과 상황에 적절한 표현을 사용했는지 파악하여 적절한 의견 주장인지 대한 추론\",\n",
    "                                      score_desc=\"User의 응답이 Context에 대해 문맥과 상황에 적절한 표현을 사용했는지 파악하여 적절한 의견 주장인지에 대한 점수, 0~10점\")"
   ]
  },
  {
   "cell_type": "code",
   "execution_count": 44,
   "id": "6559bced-3512-4c68-b484-754ccf33ed72",
   "metadata": {},
   "outputs": [],
   "source": [
    "user_answer = \"The problem of being exposed on social media is the impact for young people's perception can be distorted and lead to social issue. Also social media distrrupt young people's brain development when it comes to morality.\""
   ]
  },
  {
   "cell_type": "code",
   "execution_count": 45,
   "id": "df576a37-9e63-4de4-8a81-7ab06060cff2",
   "metadata": {},
   "outputs": [
    {
     "data": {
      "text/plain": [
       "{'reason': \"The user provided a relevant opinion by mentioning the negative impact of social media on young people's perception and brain development in terms of morality.\",\n",
       " 'score': 8}"
      ]
     },
     "execution_count": 45,
     "metadata": {},
     "output_type": "execute_result"
    }
   ],
   "source": [
    "opinion_eval_chain.invoke({\"context\": issue,\n",
    "                           \"input\": user_answer})"
   ]
  },
  {
   "cell_type": "code",
   "execution_count": null,
   "id": "7e2cc17d-043d-44a8-826e-4f4a71f6986d",
   "metadata": {},
   "outputs": [],
   "source": []
  },
  {
   "cell_type": "code",
   "execution_count": null,
   "id": "9f6d5154-c797-424a-99fb-83e4d2ed477d",
   "metadata": {},
   "outputs": [],
   "source": []
  }
 ],
 "metadata": {
  "kernelspec": {
   "display_name": "Python 3 (ipykernel)",
   "language": "python",
   "name": "python3"
  },
  "language_info": {
   "codemirror_mode": {
    "name": "ipython",
    "version": 3
   },
   "file_extension": ".py",
   "mimetype": "text/x-python",
   "name": "python",
   "nbconvert_exporter": "python",
   "pygments_lexer": "ipython3",
   "version": "3.12.3"
  }
 },
 "nbformat": 4,
 "nbformat_minor": 5
}
